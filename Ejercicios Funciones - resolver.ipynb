{
 "cells": [
  {
   "cell_type": "markdown",
   "metadata": {},
   "source": [
    "<h1><center>Colombian TI Software</center></h1>\n",
    "<h2><center>Ejercicios funciones</center></h1>"
   ]
  },
  {
   "cell_type": "markdown",
   "metadata": {},
   "source": [
    "**1. Realice un programa que haciendo uso de una función de Python permita encontrar el máximo entre 3 números.**"
   ]
  },
  {
   "cell_type": "code",
   "execution_count": 14,
   "metadata": {},
   "outputs": [
    {
     "name": "stdout",
     "output_type": "stream",
     "text": [
      "de los numeros 80, 73, 108 el mayor es: \n",
      " 108 \n"
     ]
    }
   ],
   "source": [
    "def maximo2(num1, num2):\n",
    "        if num1>num2:\n",
    "            return num1\n",
    "        return num2\n",
    "    \n",
    "def maximo3(a,num3):\n",
    "    if a>num3:\n",
    "        return a\n",
    "    return num3\n",
    "\n",
    "num1=int(input(\"ingresa el primer numero\"))\n",
    "num2=int(input(\"ingresa el segundo numero\"))\n",
    "num3=int(input(\"ingresa el tercer numero\"))\n",
    "\n",
    "a=maximo2(num1, num2)\n",
    "max=maximo3(a, num3)\n",
    "    \n",
    "print(f\"de los numeros {num1}, {num2}, {num3} el mayor es: \\n {max} \")\n",
    "     \n",
    "\n",
    "\n"
   ]
  },
  {
   "cell_type": "markdown",
   "metadata": {},
   "source": [
    "**2. Realice un programa que haciendo uso de una función  le permita invertir una cadena de caracteres.**"
   ]
  },
  {
   "cell_type": "code",
   "execution_count": 15,
   "metadata": {},
   "outputs": [
    {
     "name": "stdout",
     "output_type": "stream",
     "text": [
      "aloh"
     ]
    }
   ],
   "source": [
    "def invertir(string):\n",
    "    for i in range(len(string)):\n",
    "        print(string[-i-1], end=\"\")\n",
    "        \n",
    "cadena=input(\"ingresa la frase que quieres invertir:\")\n",
    "invertir(cadena)\n",
    "        \n",
    "\n",
    "    \n",
    "    "
   ]
  },
  {
   "cell_type": "markdown",
   "metadata": {},
   "source": [
    "**3. Realice un programa que haciendo uso de una función calcular la factorial de un número (un entero no negativo).**"
   ]
  },
  {
   "cell_type": "code",
   "execution_count": 4,
   "metadata": {},
   "outputs": [
    {
     "name": "stdout",
     "output_type": "stream",
     "text": [
      "el factorial del numero 0 es: 1\n"
     ]
    }
   ],
   "source": [
    "def factorial(num):\n",
    "    facto=1\n",
    "    while  num>1:\n",
    "        facto =facto*(num)\n",
    "        num-=1\n",
    "    return facto\n",
    "       \n",
    "numero=int(input(\"ingrese un numero para calcular su factorial: \"))   \n",
    "print(f\"el factorial del numero {numero} es: {factorial(numero)}\")\n",
    "                \n",
    "    "
   ]
  },
  {
   "cell_type": "markdown",
   "metadata": {},
   "source": [
    "**4. Realice un programa que haciendo uso de una función verifique si un número cae en un rango dado.**"
   ]
  },
  {
   "cell_type": "code",
   "execution_count": null,
   "metadata": {},
   "outputs": [],
   "source": []
  },
  {
   "cell_type": "markdown",
   "metadata": {},
   "source": [
    "**5. Realice un programa que haciendo uso de una función  acepte una cadena y calcule el número de letras mayúsculas y minúsculas.**"
   ]
  },
  {
   "cell_type": "code",
   "execution_count": 16,
   "metadata": {},
   "outputs": [
    {
     "name": "stdout",
     "output_type": "stream",
     "text": [
      "la cadena ingresada: 'ROSAbura' tiene un numero de mayusculas de 4 y  de minusculas de 4\n"
     ]
    }
   ],
   "source": [
    "def contador(cadena):\n",
    "    mayuscula=0\n",
    "    minuscula=0\n",
    "    for i in cadena:\n",
    "        if i.isupper():\n",
    "            mayuscula +=1\n",
    "        if i.islower():\n",
    "            minuscula +=1\n",
    "                 \n",
    "    return (f\"un numero de mayusculas de {mayuscula} y  de minusculas de {minuscula}\")\n",
    "\n",
    "\n",
    "\n",
    "    \n",
    "cadena=input(\"ingresa una cadena: \")\n",
    "    \n",
    "print(f\"la cadena ingresada: '{cadena}' tiene {contador(cadena)}\")"
   ]
  },
  {
   "cell_type": "markdown",
   "metadata": {},
   "source": [
    "**6. Realice un programa que haciendo uso de una función tome un número como parámetro y verifique si el número es primo o no.**"
   ]
  },
  {
   "cell_type": "code",
   "execution_count": null,
   "metadata": {},
   "outputs": [],
   "source": []
  },
  {
   "cell_type": "markdown",
   "metadata": {},
   "source": [
    "**7. Realice un programa que haciendo uso de una función para comprobar si un número es perfecto o no. (son aquellos iguales a la suma de sus divisores)**"
   ]
  },
  {
   "cell_type": "code",
   "execution_count": null,
   "metadata": {},
   "outputs": [],
   "source": []
  },
  {
   "cell_type": "markdown",
   "metadata": {},
   "source": [
    "**8. Realice un programa que haciendo uso de una función verifique si una cadena pasada es palíndromo o no. (Un palíndromo es una palabra, frase o secuencia que se lee igual hacia atrás que hacia adelante, por ejemplo, señora o enfermeras corren.)**"
   ]
  },
  {
   "cell_type": "code",
   "execution_count": null,
   "metadata": {},
   "outputs": [],
   "source": [
    "\n"
   ]
  },
  {
   "cell_type": "markdown",
   "metadata": {},
   "source": [
    "**9. Realice un programa que haciendo uso de una función que cree e imprima una lista donde los valores sean cuadrados de números entre 1 y 30 (ambos incluidos).**"
   ]
  },
  {
   "cell_type": "code",
   "execution_count": null,
   "metadata": {},
   "outputs": [],
   "source": []
  },
  {
   "cell_type": "markdown",
   "metadata": {},
   "source": [
    "**10. Realice un programa que haciendo uso de una función que realice una función dentro de otra función.**"
   ]
  },
  {
   "cell_type": "code",
   "execution_count": null,
   "metadata": {},
   "outputs": [],
   "source": []
  },
  {
   "cell_type": "markdown",
   "metadata": {},
   "source": [
    "**11.\tRealice un programa que haciendo uso de una función nos permita jugar piedra papel o tijera.**"
   ]
  },
  {
   "cell_type": "code",
   "execution_count": null,
   "metadata": {},
   "outputs": [],
   "source": []
  },
  {
   "cell_type": "markdown",
   "metadata": {},
   "source": [
    "**12.\tRealice un programa que haciendo uso de una función cacule el total de un pago incluyendo un impuesto aplicado. <li>Formula: pago_total = pago_sin_impuesto + pago_sin_impuesto * (impuesto/100)</l1>**"
   ]
  },
  {
   "cell_type": "code",
   "execution_count": null,
   "metadata": {},
   "outputs": [],
   "source": []
  },
  {
   "cell_type": "markdown",
   "metadata": {},
   "source": [
    "**13. Escribir una función que, dado un número de DNI, retorne True si el número es válido y False si no lo es. Para que un número de DNI sea válido debe tener entre 7 y 8 dígitos.**"
   ]
  },
  {
   "cell_type": "code",
   "execution_count": null,
   "metadata": {},
   "outputs": [],
   "source": []
  },
  {
   "cell_type": "markdown",
   "metadata": {},
   "source": [
    "**14.\tEscribir un programa que pida números positivos al usuario. Mostrar el número cuya sumatoria de dígitos fue mayor y la cantidad de números cuya sumatoria de dígitos fue menor que 10. Utilizar una o más funciones, según sea necesario.**"
   ]
  },
  {
   "cell_type": "code",
   "execution_count": null,
   "metadata": {},
   "outputs": [],
   "source": []
  }
 ],
 "metadata": {
  "kernelspec": {
   "display_name": "Python 3.10.4 64-bit",
   "language": "python",
   "name": "python3"
  },
  "language_info": {
   "codemirror_mode": {
    "name": "ipython",
    "version": 3
   },
   "file_extension": ".py",
   "mimetype": "text/x-python",
   "name": "python",
   "nbconvert_exporter": "python",
   "pygments_lexer": "ipython3",
   "version": "3.10.4"
  },
  "orig_nbformat": 4,
  "vscode": {
   "interpreter": {
    "hash": "c63d8c7d738c2960218a10995aedf0a7f67a49a231e71037adf0440953cdb45b"
   }
  }
 },
 "nbformat": 4,
 "nbformat_minor": 2
}

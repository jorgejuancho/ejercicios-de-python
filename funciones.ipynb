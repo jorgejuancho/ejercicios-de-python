{
 "cells": [
  {
   "cell_type": "markdown",
   "metadata": {},
   "source": [
    "funciones palabra reservada \n",
    "def nombre de funcion():\n",
    "\n"
   ]
  },
  {
   "cell_type": "code",
   "execution_count": 3,
   "metadata": {},
   "outputs": [
    {
     "name": "stdout",
     "output_type": "stream",
     "text": [
      "hola mama estoy triunfando\n",
      "hola mama estoy triunfando\n"
     ]
    }
   ],
   "source": [
    "def primera_funcion():\n",
    "    print(\"hola mama estoy triunfando\")\n",
    "    \n",
    "primera_funcion()\n",
    "\n",
    "def primera_funcion():\n",
    "    return \"hola mama estoy triunfando\"\n",
    "    \n",
    "primera_funcion()\n",
    "print(primera_funcion())"
   ]
  },
  {
   "cell_type": "code",
   "execution_count": 8,
   "metadata": {},
   "outputs": [
    {
     "name": "stdout",
     "output_type": "stream",
     "text": [
      "el resultado de la sumade los numeros 5 y el numero2 es : 7\n"
     ]
    }
   ],
   "source": [
    "def operacion(a,b):\n",
    "    suma=a+b\n",
    "    return suma\n",
    "\n",
    "\n",
    "num1=int(input(\"ingrese el primer numero\"))\n",
    "num2=int(input(\"ingrese el segundo numero\"))\n",
    "\n",
    "print(f\"el resultado de la sumade los numeros {num1} y el numero{num2} es : {operacion( num1,num2)}\")\n",
    "\n",
    "\n"
   ]
  }
 ],
 "metadata": {
  "kernelspec": {
   "display_name": "Python 3.10.4 64-bit",
   "language": "python",
   "name": "python3"
  },
  "language_info": {
   "codemirror_mode": {
    "name": "ipython",
    "version": 3
   },
   "file_extension": ".py",
   "mimetype": "text/x-python",
   "name": "python",
   "nbconvert_exporter": "python",
   "pygments_lexer": "ipython3",
   "version": "3.10.4"
  },
  "orig_nbformat": 4,
  "vscode": {
   "interpreter": {
    "hash": "c63d8c7d738c2960218a10995aedf0a7f67a49a231e71037adf0440953cdb45b"
   }
  }
 },
 "nbformat": 4,
 "nbformat_minor": 2
}

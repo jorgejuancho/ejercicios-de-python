{
 "cells": [
  {
   "cell_type": "markdown",
   "metadata": {},
   "source": [
    "10.  Escribir  un  programa  que  pregunte  por  consola  por  los  productos  de  la \n",
    "canasta familiar, separados por comas, y muestre por pantalla cada uno de \n",
    "los productos en una línea distinta"
   ]
  },
  {
   "cell_type": "code",
   "execution_count": 1,
   "metadata": {},
   "outputs": [
    {
     "name": "stdout",
     "output_type": "stream",
     "text": [
      "el listado del mercado es: \n",
      "papa\n",
      " aguacate\n",
      " arroz\n",
      "cebolla\n"
     ]
    }
   ],
   "source": [
    "mercado = input(\"ingrese la lista del mercado separada por comas \")\n",
    "lista=mercado.split(\",\")\n",
    "print(\"el listado del mercado es: \")\n",
    "for i in lista:\n",
    "    print(i)"
   ]
  },
  {
   "cell_type": "markdown",
   "metadata": {},
   "source": [
    "El directorio telefónico de la empresa de aseo “Newclean” tiene el siguiente \n",
    "formato para  los números: prefijo-número-extensión donde el prefijo es el \n",
    "código  del  país  +34,  y  la  extensión  tiene  dos  dígitos  (por  ejemplo  +34-\n",
    "913724710-56).  Escribir  un  programa  que  pregunte  por  un  número  de \n",
    "teléfono con este formato y muestre por pantalla el número de teléfono sin \n",
    "el prefijo y la extensión"
   ]
  },
  {
   "cell_type": "code",
   "execution_count": null,
   "metadata": {},
   "outputs": [],
   "source": [
    "telefono = input(\"ingrese el numero de telefono en el formato prefijo-número-extensión \")\n",
    "x=telefono.split(\"-\")\n",
    "\n",
    "print(f\"el numero de telefono es: {x[1]}\")"
   ]
  },
  {
   "cell_type": "code",
   "execution_count": null,
   "metadata": {},
   "outputs": [],
   "source": [
    "telefono = input(\"ingrese el numero de telefono en el formato prefijo-número-extensión \")\n",
    "print(telefono[4:-3])"
   ]
  },
  {
   "cell_type": "code",
   "execution_count": null,
   "metadata": {},
   "outputs": [],
   "source": []
  },
  {
   "cell_type": "markdown",
   "metadata": {},
   "source": []
  }
 ],
 "metadata": {
  "kernelspec": {
   "display_name": "Python 3.10.4 64-bit",
   "language": "python",
   "name": "python3"
  },
  "language_info": {
   "codemirror_mode": {
    "name": "ipython",
    "version": 3
   },
   "file_extension": ".py",
   "mimetype": "text/x-python",
   "name": "python",
   "nbconvert_exporter": "python",
   "pygments_lexer": "ipython3",
   "version": "3.10.4"
  },
  "orig_nbformat": 4,
  "vscode": {
   "interpreter": {
    "hash": "c63d8c7d738c2960218a10995aedf0a7f67a49a231e71037adf0440953cdb45b"
   }
  }
 },
 "nbformat": 4,
 "nbformat_minor": 2
}

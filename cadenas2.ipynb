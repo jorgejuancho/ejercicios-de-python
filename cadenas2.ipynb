{
 "cells": [
  {
   "cell_type": "markdown",
   "metadata": {},
   "source": [
    " Escribir un programa que pregunte el nombre del usuario en la consola y un \n",
    "número  entero  e  imprima  por  pantalla  en  líneas  distintas  el  nombre  del \n",
    "usuario tantas veces como el número introducido. "
   ]
  },
  {
   "cell_type": "code",
   "execution_count": 8,
   "metadata": {},
   "outputs": [
    {
     "name": "stdout",
     "output_type": "stream",
     "text": [
      "juan\n",
      "juan\n",
      "juan\n",
      "juan\n",
      "juan\n",
      "juan\n",
      "juan\n"
     ]
    }
   ],
   "source": [
    "numero=int(input(\"ingresa el numero de veces que quieras que se repita tu nombre: \"))\n",
    "nombre=input(\"ingresa tu nombre: \")\n",
    "\n",
    "for i in range(numero):\n",
    "    print(nombre)"
   ]
  },
  {
   "cell_type": "code",
   "execution_count": 34,
   "metadata": {},
   "outputs": [
    {
     "name": "stdout",
     "output_type": "stream",
     "text": [
      "juan\n",
      "juan\n",
      "juan\n",
      "juan\n",
      "juan\n",
      "juan\n",
      "juan\n",
      "juan\n",
      "juan\n",
      "juan\n"
     ]
    }
   ],
   "source": [
    "numero=int(input(\"ingresa el numero de veces que quieras que se repita tu nombre: \"))\n",
    "nombre=input(\"ingresa tu nombre: \")\n",
    "\n",
    "while numero > 0:\n",
    "    print(nombre)\n",
    "    numero -= 1\n",
    "    \n",
    "    \n",
    "    \n",
    "    "
   ]
  },
  {
   "cell_type": "markdown",
   "metadata": {},
   "source": [
    "2. Escribir  un  programa  que  pregunte  el  nombre  completo  del  usuario  en  la \n",
    "consola y después muestre por pantalla el nombre completo del usuario tres \n",
    "veces: 1. Con todas las letras minúsculas. 2. Con todas las letras mayúsculas, \n",
    "y  3.  La  última  solo  con  la  primera  letra  del  nombre  y  de  los  apellidos  en \n",
    "mayúscula. El usuario puede introducir su nombre combinando mayúsculas \n",
    "y minúsculas como desee."
   ]
  },
  {
   "cell_type": "code",
   "execution_count": 36,
   "metadata": {},
   "outputs": [
    {
     "name": "stdout",
     "output_type": "stream",
     "text": [
      "jorge juan dominguez\n",
      "JORGE JUAN DOMINGUEZ\n",
      "Jorge Juan Dominguez\n"
     ]
    }
   ],
   "source": [
    "nombre=input(\"ingresa tu nombre completo: \")\n",
    "\n",
    "print(nombre.lower())\n",
    "print(nombre.upper())\n",
    "print(nombre.title())"
   ]
  },
  {
   "cell_type": "markdown",
   "metadata": {},
   "source": [
    "3. Escribir un  programa que pregunte el nombre del usuario en la consola y \n",
    "después de ser introducido por el usuario, muestre por pantalla <NOMBRE> \n",
    "tiene <n> letras, donde <NOMBRE> es el nombre de usuario en mayúsculas \n",
    "y <n> es el número de letras que tienen el nombre."
   ]
  },
  {
   "cell_type": "code",
   "execution_count": 37,
   "metadata": {},
   "outputs": [
    {
     "name": "stdout",
     "output_type": "stream",
     "text": [
      "el nombre JUANCHO tiene 7 letras \n"
     ]
    }
   ],
   "source": [
    "nombre=input(\"ingresa tu nombre: \")\n",
    "\n",
    "print(f\"el nombre {nombre.upper()} tiene {len(nombre)} letras \")"
   ]
  },
  {
   "cell_type": "markdown",
   "metadata": {},
   "source": [
    "4. El directorio telefónico de la empresa de aseo “Newclean” tiene el siguiente \n",
    "formato para  los números: prefijo-número-extensión donde el prefijo es el \n",
    "código  del  país  +34,  y  la  extensión  tiene  dos  dígitos  (por  ejemplo  +34-\n",
    "913724710-56).  Escribir  un  programa  que  pregunte  por  un  número  de \n",
    "teléfono con este formato y muestre por pantalla el número de teléfono sin \n",
    "el prefijo y la extensión. "
   ]
  },
  {
   "cell_type": "code",
   "execution_count": 39,
   "metadata": {},
   "outputs": [
    {
     "name": "stdout",
     "output_type": "stream",
     "text": [
      " el numero telefonico es  913724710\n"
     ]
    }
   ],
   "source": [
    "numero = input(\"ingrese el numero  completo con codigo de pais y extension: \")\n",
    "\n",
    "print(f\" el numero telefonico es {numero[4:-3]}\")"
   ]
  },
  {
   "cell_type": "markdown",
   "metadata": {},
   "source": [
    "5. Escribir un programa que pida al usuario introducir una frase en la consola \n",
    "y muestre por pantalla la frase invertida."
   ]
  },
  {
   "cell_type": "code",
   "execution_count": 52,
   "metadata": {},
   "outputs": [
    {
     "name": "stdout",
     "output_type": "stream",
     "text": [
      "dadilac euq"
     ]
    }
   ],
   "source": [
    "palabra = input(\"ingrese la palabra:  \")\n",
    "\n",
    "for i in range(len(palabra)):\n",
    "    print(palabra[-i-1], end=\"\")\n",
    "    \n",
    "    "
   ]
  },
  {
   "cell_type": "markdown",
   "metadata": {},
   "source": [
    "6. Escribir un programa que pida al usuario introducir una frase en la consola \n",
    "y una vocal, y después muestre por pantalla la misma frase, pero con la vocal \n",
    "introducida en mayúscula."
   ]
  },
  {
   "cell_type": "code",
   "execution_count": null,
   "metadata": {},
   "outputs": [],
   "source": [
    "frase=input(\"ingresa una frase\")\n",
    "vocal=input(\"ingresa la vocal que deseas convertir en mayúsculas\")\n",
    "\n",
    "print(f\"la frase modificada es: \\n{frase.replace(vocal, vocal.upper())}\")"
   ]
  },
  {
   "cell_type": "markdown",
   "metadata": {},
   "source": [
    "7. Escribir un programa que pregunte el correo  electrónico  del usuario en la \n",
    "consola y muestre por pantalla otro correo electrónico con el mismo nombre \n",
    "(la parte delante de la arroba @ pero con dominio ceu.es). "
   ]
  },
  {
   "cell_type": "code",
   "execution_count": 1,
   "metadata": {},
   "outputs": [
    {
     "name": "stdout",
     "output_type": "stream",
     "text": [
      " su correo electronico equivalente en españa es:rosalbalondono@ceu.es \n"
     ]
    }
   ],
   "source": [
    "correo=input(\"ingrese el correo electronico\")\n",
    "\n",
    "print(f\" su correo electronico equivalente en españa es:{correo[0:correo.find('@')]}@ceu.es \")"
   ]
  },
  {
   "cell_type": "markdown",
   "metadata": {},
   "source": []
  }
 ],
 "metadata": {
  "kernelspec": {
   "display_name": "Python 3.10.4 64-bit",
   "language": "python",
   "name": "python3"
  },
  "language_info": {
   "codemirror_mode": {
    "name": "ipython",
    "version": 3
   },
   "file_extension": ".py",
   "mimetype": "text/x-python",
   "name": "python",
   "nbconvert_exporter": "python",
   "pygments_lexer": "ipython3",
   "version": "3.10.4"
  },
  "orig_nbformat": 4,
  "vscode": {
   "interpreter": {
    "hash": "c63d8c7d738c2960218a10995aedf0a7f67a49a231e71037adf0440953cdb45b"
   }
  }
 },
 "nbformat": 4,
 "nbformat_minor": 2
}

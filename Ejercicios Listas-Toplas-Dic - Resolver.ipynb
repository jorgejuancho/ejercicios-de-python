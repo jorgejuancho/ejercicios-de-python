{
 "cells": [
  {
   "cell_type": "markdown",
   "metadata": {},
   "source": [
    "<h1><center>Colombian TI Software</center></h1>\n",
    "<h2><center>Ejercicios Listas</center></h1>"
   ]
  },
  {
   "cell_type": "markdown",
   "metadata": {},
   "source": [
    "**1. Iterar un rango de 0 a 10 e imprimir números divisibles entre 3**"
   ]
  },
  {
   "cell_type": "code",
   "execution_count": 6,
   "metadata": {},
   "outputs": [
    {
     "name": "stdout",
     "output_type": "stream",
     "text": [
      "el numero 3 es multiplo de 3: \n",
      "el numero 6 es multiplo de 3: \n",
      "el numero 9 es multiplo de 3: \n"
     ]
    }
   ],
   "source": [
    "lista=[0,1,2,3,4,5,6,7,8,9,10]\n",
    "\n",
    "for num in lista:\n",
    "    if num==0:\n",
    "        continue\n",
    "    if num%3==0:\n",
    "        print(f\"el numero {num} es multiplo de 3: \")\n",
    "   "
   ]
  },
  {
   "cell_type": "markdown",
   "metadata": {},
   "source": [
    "**2. Crear un rango de numeros de 2 a 6, e imprimelos**"
   ]
  },
  {
   "cell_type": "code",
   "execution_count": null,
   "metadata": {},
   "outputs": [],
   "source": [
    "rango=range(2,7)\n",
    "for i in rango:\n",
    "    print(i)\n",
    "print(type(rango))\n"
   ]
  },
  {
   "cell_type": "code",
   "execution_count": null,
   "metadata": {},
   "outputs": [],
   "source": [
    "lista=[]\n",
    "for i in range(2,7):\n",
    "    lista.append(i)\n",
    "for i in range(len(lista)):\n",
    "    print(lista[i])\n",
    "    \n"
   ]
  },
  {
   "cell_type": "markdown",
   "metadata": {},
   "source": [
    "**3. Escriba un programa en Python para multiplicar todos los elementos de una lista.**"
   ]
  },
  {
   "cell_type": "code",
   "execution_count": null,
   "metadata": {},
   "outputs": [],
   "source": [
    "def multiplicar(items):\n",
    "    resultado=1\n",
    "    for item in items:\n",
    "        resultado*= item\n",
    "    return(resultado)\n",
    "\n",
    "print(multiplicar([1,-2,5]))"
   ]
  },
  {
   "cell_type": "markdown",
   "metadata": {},
   "source": [
    "**4.Escriba un programa en Python para obtener el número más grande de una lista.**"
   ]
  },
  {
   "cell_type": "code",
   "execution_count": 2,
   "metadata": {},
   "outputs": [
    {
     "name": "stdout",
     "output_type": "stream",
     "text": [
      "101\n"
     ]
    }
   ],
   "source": [
    "def numMax(list):\n",
    "    max=list[0]\n",
    "    for num in list:\n",
    "        if num>max:\n",
    "            max=num\n",
    "    return max\n",
    "\n",
    "print(numMax([2,-3,4,7,101,-203]))"
   ]
  },
  {
   "cell_type": "code",
   "execution_count": 3,
   "metadata": {},
   "outputs": [
    {
     "name": "stdout",
     "output_type": "stream",
     "text": [
      "101\n"
     ]
    }
   ],
   "source": [
    "#usando funcion max\n",
    "\n",
    "def numMax(list):\n",
    "    maximo=max(list)\n",
    "    return maximo\n",
    "\n",
    "print(numMax([2,-3,4,7,101,-203]))"
   ]
  },
  {
   "cell_type": "markdown",
   "metadata": {},
   "source": [
    "**5. Escriba un programa de Python para encontrar la lista de palabras que son más largas que n de una lista de palabras dada.**"
   ]
  },
  {
   "cell_type": "code",
   "execution_count": 1,
   "metadata": {},
   "outputs": [
    {
     "name": "stdout",
     "output_type": "stream",
     "text": [
      "['juan', 'murcielago', 'pepe']\n"
     ]
    }
   ],
   "source": [
    "       \n",
    "def palabras():\n",
    "    lista=[]\n",
    "    opcion=0\n",
    "    while opcion !=1:\n",
    "        palabra=input(\"ingrese palabra al listado --> \") \n",
    "        lista.append(palabra)\n",
    "        opcion=int(input(\"marque (0) para ingresar otra palabra,  para salir marque (1) \"))\n",
    "    return(lista)\n",
    "        \n",
    "def palabrasLargas(palabras):\n",
    "    n=int(input(\"ingrese la cantidad de caracteres minimo que puede tener la palabras a filtrar: \"))\n",
    "    resultado=[]\n",
    "    for palabra in palabras:\n",
    "        if len(palabra) >= n:\n",
    "            resultado.append(palabra)\n",
    "    return(resultado)\n",
    "\n",
    "print(palabrasLargas(palabras()))  \n",
    "    "
   ]
  },
  {
   "cell_type": "code",
   "execution_count": null,
   "metadata": {},
   "outputs": [],
   "source": [
    "# otra opcion\n",
    "\n",
    "def palabrasMasLargas(palabra):\n",
    "    n = int(input(\"cuantas letras quiere que tenga la palabra\"))\n",
    "    for i in range(len(palabra)):\n",
    "        if len(palabra[i]) >= n:\n",
    "            print(palabra[i])\n",
    "\n",
    "\n",
    "palabra = input(\n",
    "    \"ingresa todas las palabras que desee separadas por (,) sin espacios\")\n",
    "\n",
    "palabra = palabra.split(\",\")\n",
    "\n",
    "valido = True\n",
    "for i in range(len(palabra)):\n",
    "\n",
    "    if palabra[i].isdigit():\n",
    "        valido = False\n",
    "\n",
    "\n",
    "if valido == True:\n",
    "    palabrasMasLargas(palabra)\n",
    "else:\n",
    "    print(\"no se admiten numeros\")\n"
   ]
  },
  {
   "cell_type": "markdown",
   "metadata": {},
   "source": [
    "**6. Escriba un programa en Python para encontrar el segundo número más grande en una lista.**"
   ]
  },
  {
   "cell_type": "code",
   "execution_count": 6,
   "metadata": {},
   "outputs": [
    {
     "name": "stdout",
     "output_type": "stream",
     "text": [
      "23\n"
     ]
    }
   ],
   "source": [
    "def segundoMayor(lista):\n",
    "    mayor=max(lista)\n",
    "    lista.remove(mayor)\n",
    "    mayor=max(lista)\n",
    "    return mayor\n",
    "        \n",
    "    \n",
    "    \n",
    "print(segundoMayor([2,58,-201,23,9]))\n"
   ]
  },
  {
   "cell_type": "markdown",
   "metadata": {},
   "source": [
    "**7. Realice un programa que almacene en una lista los siguientes precios, 50, 75, 46, 22, 80, 65, 8, y muestre por pantalla el menor y el mayor de los precios.**"
   ]
  },
  {
   "cell_type": "code",
   "execution_count": 47,
   "metadata": {},
   "outputs": [
    {
     "name": "stdout",
     "output_type": "stream",
     "text": [
      "el numero mayor de la lista es el: 80)\n",
      "el numero menor de la lista es el: 8)\n"
     ]
    }
   ],
   "source": [
    "lista=[50, 75, 46, 22, 80, 65, 8]\n",
    "mayor=max\n",
    "print(f\"el numero mayor de la lista es el: {max(lista)})\")\n",
    "print(f\"el numero menor de la lista es el: {min(lista)})\")"
   ]
  },
  {
   "cell_type": "markdown",
   "metadata": {},
   "source": [
    "<h2><center>Ejercicios Diccionarios</center></h1>"
   ]
  },
  {
   "cell_type": "markdown",
   "metadata": {},
   "source": [
    "**1. Escriba un programa en Python para ordenar (ascendente y descendente) un diccionario por valor.**"
   ]
  },
  {
   "cell_type": "code",
   "execution_count": null,
   "metadata": {},
   "outputs": [],
   "source": [
    "def descendente(dicc:dict):\n",
    "    for i in reversed(dicc):\n",
    "        print(dicc[i])\n",
    "\n",
    "def ascendente(dicc:dict):\n",
    "    for i in sorted(dicc):\n",
    "        print(dicc[i])\n",
    "        \n",
    "diccionario ={1:'one',2:'two',3:'three',4:'four',5:'five',6:'six',7:'seven',8:'eight',9:'nine',10:'ten'}        \n",
    "basket = {8:'apple',3: 'orange', 4:'apple',2: 'pear', 6:'orange', 5:'banana'}\n",
    "\n",
    "#descendente(diccionario)\n",
    "ascendente(basket)\n"
   ]
  },
  {
   "cell_type": "markdown",
   "metadata": {},
   "source": [
    "**2. Escriba un programa de Python para verificar si una clave dada ya existe en un diccionario.**"
   ]
  },
  {
   "cell_type": "code",
   "execution_count": 22,
   "metadata": {},
   "outputs": [
    {
     "name": "stdout",
     "output_type": "stream",
     "text": [
      "{1: 'one', 2: 'pear', 3: 'orange', 4: 'apple', 5: 'banana', 6: 'orange', 7: 'seven', 8: 'apple', 9: 'nine', 10: 'ten'}\n"
     ]
    }
   ],
   "source": [
    "diccionario ={1:'one',2:'two',3:'three',4:'four',5:'five',6:'six',7:'seven',8:'eight',9:'nine',10:'ten'}        \n",
    "basket = {8:'apple',3: 'orange', 4:'apple',2: 'pear', 6:'orange', 5:'banana'}\n",
    "\n",
    "dict3= diccionario | basket \n",
    "print(dict3)"
   ]
  },
  {
   "cell_type": "markdown",
   "metadata": {},
   "source": [
    "**3. Realice un programa de Python para iterar sobre diccionarios usando bucles for.**"
   ]
  },
  {
   "cell_type": "code",
   "execution_count": null,
   "metadata": {},
   "outputs": [],
   "source": []
  },
  {
   "cell_type": "markdown",
   "metadata": {},
   "source": [
    "**4.Escriba un programa de Python que permita fusionar dos diccionarios de Python.**"
   ]
  },
  {
   "cell_type": "code",
   "execution_count": null,
   "metadata": {},
   "outputs": [],
   "source": []
  },
  {
   "cell_type": "markdown",
   "metadata": {},
   "source": [
    "**5. Escriba un programa en Python para multiplicar todos los elementos de un diccionario.**"
   ]
  },
  {
   "cell_type": "code",
   "execution_count": null,
   "metadata": {},
   "outputs": [],
   "source": []
  },
  {
   "cell_type": "markdown",
   "metadata": {},
   "source": [
    "**6. Escriba un programa en Python para imprimir un diccionario en formato de tabla.**"
   ]
  },
  {
   "cell_type": "code",
   "execution_count": null,
   "metadata": {},
   "outputs": [],
   "source": []
  },
  {
   "cell_type": "markdown",
   "metadata": {},
   "source": [
    "**7. Crea un diccionario donde la clave sea el nombre del usuario y el valor sea el teléfono (no es necesario validar). Tendrás que ir pidiendo contactos hasta el usuario diga que no quiere insertar mas. No se podrán meter nombres repetidos.**"
   ]
  },
  {
   "cell_type": "code",
   "execution_count": 36,
   "metadata": {},
   "outputs": [
    {
     "name": "stdout",
     "output_type": "stream",
     "text": [
      "Añadido el contacto\n",
      "Añadido el contacto\n",
      "Añadido el contacto\n",
      "{'Luisa Fernanda': 3209207592, 'Juan David': 320320320, 's': 2}\n"
     ]
    }
   ],
   "source": []
  },
  {
   "cell_type": "markdown",
   "metadata": {},
   "source": [
    "<h2><center>Ejercicios Tuplas</center></h1>"
   ]
  },
  {
   "cell_type": "markdown",
   "metadata": {},
   "source": [
    "**1. Escriba un programa en Python para crear una tupla.**"
   ]
  },
  {
   "cell_type": "code",
   "execution_count": 31,
   "metadata": {},
   "outputs": [
    {
     "name": "stdout",
     "output_type": "stream",
     "text": [
      "()\n",
      "('S', 'o', 'y', ' ', 'u', 'n', 'a', ' ', 't', 'u', 'p', 'l', 'a')\n"
     ]
    }
   ],
   "source": []
  },
  {
   "cell_type": "markdown",
   "metadata": {},
   "source": [
    "**2. Escriba un programa Python para crear una tupla con diferentes tipos de datos.**"
   ]
  },
  {
   "cell_type": "code",
   "execution_count": 32,
   "metadata": {},
   "outputs": [
    {
     "name": "stdout",
     "output_type": "stream",
     "text": [
      "('tuple', False, 3.2, 1)\n"
     ]
    }
   ],
   "source": []
  },
  {
   "cell_type": "markdown",
   "metadata": {},
   "source": [
    "**3. Escriba un programa de Python para agregar un elemento en una tupla.**"
   ]
  },
  {
   "cell_type": "code",
   "execution_count": 34,
   "metadata": {},
   "outputs": [
    {
     "name": "stdout",
     "output_type": "stream",
     "text": [
      "(4, 6, 2, 8, 3, 1)\n",
      "(4, 6, 2, 8, 3, 1, 9)\n",
      "(4, 6, 2, 8, 3, 15, 20, 25, 4, 6, 2, 8, 3)\n",
      "(4, 6, 2, 8, 3, 15, 20, 25, 4, 6, 2, 8, 3, 30)\n"
     ]
    }
   ],
   "source": []
  },
  {
   "cell_type": "markdown",
   "metadata": {},
   "source": [
    "**4. Escriba un programa en Python para encontrar los elementos repetidos de una tupla.**"
   ]
  },
  {
   "cell_type": "code",
   "execution_count": null,
   "metadata": {},
   "outputs": [],
   "source": []
  },
  {
   "cell_type": "markdown",
   "metadata": {},
   "source": [
    "**5. Escribir un programa que pregunte por una muestra de números, separados por comas, los guarde en una tupla y muestre por pantalla su media y desviación típica.**"
   ]
  },
  {
   "cell_type": "code",
   "execution_count": null,
   "metadata": {},
   "outputs": [],
   "source": []
  },
  {
   "cell_type": "markdown",
   "metadata": {},
   "source": [
    "<h2><center>Proyectos de Colecciones</center></h1>"
   ]
  },
  {
   "cell_type": "markdown",
   "metadata": {},
   "source": [
    "**1. Encuentra el numero**"
   ]
  },
  {
   "cell_type": "code",
   "execution_count": null,
   "metadata": {},
   "outputs": [],
   "source": []
  }
 ],
 "metadata": {
  "kernelspec": {
   "display_name": "Python 3.10.4 64-bit",
   "language": "python",
   "name": "python3"
  },
  "language_info": {
   "codemirror_mode": {
    "name": "ipython",
    "version": 3
   },
   "file_extension": ".py",
   "mimetype": "text/x-python",
   "name": "python",
   "nbconvert_exporter": "python",
   "pygments_lexer": "ipython3",
   "version": "3.10.4"
  },
  "orig_nbformat": 4,
  "vscode": {
   "interpreter": {
    "hash": "c63d8c7d738c2960218a10995aedf0a7f67a49a231e71037adf0440953cdb45b"
   }
  }
 },
 "nbformat": 4,
 "nbformat_minor": 2
}
